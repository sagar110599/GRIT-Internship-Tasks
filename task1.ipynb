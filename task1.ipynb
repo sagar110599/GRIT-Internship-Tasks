{
  "nbformat": 4,
  "nbformat_minor": 0,
  "metadata": {
    "colab": {
      "name": "task1.ipynb",
      "provenance": []
    },
    "kernelspec": {
      "name": "python3",
      "display_name": "Python 3"
    }
  },
  "cells": [
    {
      "cell_type": "markdown",
      "metadata": {
        "id": "VLdiE3_FajFD"
      },
      "source": [
        "Regression analysis TASK-1"
      ]
    },
    {
      "cell_type": "code",
      "metadata": {
        "id": "BPmB5Yby16-z",
        "outputId": "a1266574-44dc-417c-b427-578ed9b80f09",
        "colab": {
          "base_uri": "https://localhost:8080/",
          "height": 295
        }
      },
      "source": [
        "import pandas as pd\n",
        "import numpy as np\n",
        "import matplotlib.pyplot as plt\n",
        "import seaborn as sns\n",
        "%matplotlib inline\n",
        "\n",
        "df=pd.read_csv(\"https://raw.githubusercontent.com/AdiPersonalWorks/Random/master/student_scores%20-%20student_scores.csv\")\n",
        "\n",
        "df.plot(x='Hours', y='Scores', style='o')  \n",
        "plt.title('Hours vs Percentage')  \n",
        "plt.xlabel('Hours Studied')  \n",
        "plt.ylabel('Percentage Score')  \n",
        "plt.show()\n"
      ],
      "execution_count": 7,
      "outputs": [
        {
          "output_type": "display_data",
          "data": {
            "image/png": "[encoded data removed]",
            "text/plain": [
              "<Figure size 432x288 with 1 Axes>"
            ]
          },
          "metadata": {
            "tags": [],
            "needs_background": "light"
          }
        }
      ]
    },
    {
      "cell_type": "markdown",
      "metadata": {
        "id": "mcXg1uPxazwP"
      },
      "source": [
        "Determine correlation between the two variables\n"
      ]
    },
    {
      "cell_type": "code",
      "metadata": {
        "id": "8cA1Ce6E485G",
        "outputId": "eaf7113d-3cf6-406a-b64d-81c54e831e5d",
        "colab": {
          "base_uri": "https://localhost:8080/",
          "height": 68
        }
      },
      "source": [
        "print(df.corr())\n",
        "Y=df['Scores']\n",
        "X = df.iloc[:, :-1].values  \n",
        "\n",
        " "
      ],
      "execution_count": 8,
      "outputs": [
        {
          "output_type": "stream",
          "text": [
            "           Hours    Scores\n",
            "Hours   1.000000  0.976191\n",
            "Scores  0.976191  1.000000\n"
          ],
          "name": "stdout"
        }
      ]
    },
    {
      "cell_type": "markdown",
      "metadata": {
        "id": "TFulM_MOa97G"
      },
      "source": [
        "Spliting of dataset in test and train"
      ]
    },
    {
      "cell_type": "code",
      "metadata": {
        "id": "UrIZudE263Op"
      },
      "source": [
        "from sklearn.model_selection import train_test_split  \n",
        "X_train, X_test, y_train, y_test = train_test_split(X, Y, \n",
        "                            test_size=0.2, random_state=30)\n"
      ],
      "execution_count": 9,
      "outputs": []
    },
    {
      "cell_type": "markdown",
      "metadata": {
        "id": "XDWGOek4bGNo"
      },
      "source": [
        "Developing the Model"
      ]
    },
    {
      "cell_type": "code",
      "metadata": {
        "id": "JgtO7eA57VO8",
        "outputId": "e3eb3edc-7752-44f4-cf52-2e8d314deb46",
        "colab": {
          "base_uri": "https://localhost:8080/",
          "height": 34
        }
      },
      "source": [
        "from sklearn.linear_model import LinearRegression \n",
        "\"\"\"\n",
        "Parameters\n",
        "fit_interceptbool, default=True\n",
        "Whether to calculate the intercept for this model. If set to False, no intercept will be used in calculations (i.e. data is expected to be centered).\n",
        "\n",
        "normalizebool, default=False\n",
        "This parameter is ignored when fit_intercept is set to False. If True, the regressors X will be normalized before regression by subtracting the mean and dividing by the l2-norm. If you wish to standardize, please use sklearn.preprocessing.StandardScaler before calling fit on an estimator with normalize=False.\n",
        "\n",
        "copy_Xbool, default=True\n",
        "If True, X will be copied; else, it may be overwritten.\n",
        "\n",
        "n_jobsint, default=None\n",
        "The number of jobs to use for the computation. This will only provide speedup for n_targets > 1 and sufficient large problems. None means 1 unless in a joblib.parallel_backend context. -1 means using all processors. \n",
        "\"\"\"\n",
        "regressor = LinearRegression()  \n",
        "regressor.fit(X_train, y_train) \n",
        "\n",
        "print(\"Training completed.\")"
      ],
      "execution_count": 10,
      "outputs": [
        {
          "output_type": "stream",
          "text": [
            "Training completed.\n"
          ],
          "name": "stdout"
        }
      ]
    },
    {
      "cell_type": "markdown",
      "metadata": {
        "id": "klmACbVabMfb"
      },
      "source": [
        "Ploting the regression line"
      ]
    },
    {
      "cell_type": "code",
      "metadata": {
        "id": "n8TRX4SbCPY-",
        "outputId": "832d7a4b-94e8-43a9-ec1e-b7b44ad7638d",
        "colab": {
          "base_uri": "https://localhost:8080/",
          "height": 265
        }
      },
      "source": [
        "# Plotting the regression line\n",
        "line = regressor.coef_*X+regressor.intercept_\n",
        "plt.scatter(X, Y)\n",
        "plt.plot(X, line,color=\"red\");\n",
        "plt.show()"
      ],
      "execution_count": 11,
      "outputs": [
        {
          "output_type": "display_data",
          "data": {
            "image/png": "[encoded data removed]",
            "text/plain": [
              "<Figure size 432x288 with 1 Axes>"
            ]
          },
          "metadata": {
            "tags": [],
            "needs_background": "light"
          }
        }
      ]
    },
    {
      "cell_type": "markdown",
      "metadata": {
        "id": "NL-86QEibSAM"
      },
      "source": [
        "Prediction of values"
      ]
    },
    {
      "cell_type": "code",
      "metadata": {
        "id": "jKvEmts_CYZ-",
        "outputId": "fb5d0379-af44-48d1-971a-7bf99c9831c1",
        "colab": {
          "base_uri": "https://localhost:8080/",
          "height": 153
        }
      },
      "source": [
        "y_pred = regressor.predict(X_test)\n",
        "res = pd.DataFrame({'Actual': y_test, 'Predicted': y_pred})  \n",
        "print(res)\n",
        "print(error(y_pred))"
      ],
      "execution_count": 14,
      "outputs": [
        {
          "output_type": "stream",
          "text": [
            "    Actual  Predicted\n",
            "10      85  76.971740\n",
            "16      30  27.171723\n",
            "19      69  74.098662\n",
            "0       21  27.171723\n",
            "23      76  69.310199\n",
            "Mean Absolute Error: 5.763344662175538\n",
            "None\n"
          ],
          "name": "stdout"
        }
      ]
    },
    {
      "cell_type": "markdown",
      "metadata": {
        "id": "kal1yZjXbZNK"
      },
      "source": [
        "function to determine error in desired and generated output"
      ]
    },
    {
      "cell_type": "code",
      "metadata": {
        "id": "JUd3p1-7Cybs"
      },
      "source": [
        "from sklearn import metrics \n",
        "def error(y_pred): \n",
        "  print('Mean Absolute Error:', \n",
        "        metrics.mean_absolute_error(y_test, y_pred))\n",
        "   \n"
      ],
      "execution_count": 13,
      "outputs": []
    },
    {
      "cell_type": "markdown",
      "metadata": {
        "id": "Qe4_0QChbj2X"
      },
      "source": [
        "Xgboost , Ridge and GridsearchCv to enhace the model\n"
      ]
    },
    {
      "cell_type": "code",
      "metadata": {
        "id": "BSbFZ9p2Xen0",
        "outputId": "84cb1e52-78ec-418e-d605-cccd6e128aaa",
        "colab": {
          "base_uri": "https://localhost:8080/",
          "height": 170
        }
      },
      "source": [
        "import xgboost as xgb\n",
        "from xgboost import XGBRegressor\n",
        "model=xgb.XGBRegressor()\n",
        "model.fit(X_train,y_train)\n",
        "y_pred=model.predict(X_test)\n",
        "res = pd.DataFrame({'Actual': y_test, 'Predicted': y_pred})  \n",
        "print(res)\n",
        "print(error(y_pred))"
      ],
      "execution_count": 15,
      "outputs": [
        {
          "output_type": "stream",
          "text": [
            "[13:23:22] WARNING: /workspace/src/objective/regression_obj.cu:152: reg:linear is now deprecated in favor of reg:squarederror.\n",
            "    Actual  Predicted\n",
            "10      85  85.633820\n",
            "16      30  27.237755\n",
            "19      69  85.633820\n",
            "0       21  27.237755\n",
            "23      76  66.983292\n",
            "Mean Absolute Error: 7.0568695068359375\n",
            "None\n"
          ],
          "name": "stdout"
        }
      ]
    },
    {
      "cell_type": "code",
      "metadata": {
        "id": "_MtfbzD4bhSQ",
        "outputId": "33d17ac1-177b-4244-c74d-f5e09d2a07f8",
        "colab": {
          "base_uri": "https://localhost:8080/",
          "height": 782
        }
      },
      "source": [
        "from sklearn.linear_model import Ridge\n",
        "for alpha in range(1,11,2):\n",
        "  print(\"alpha is \"+str(alpha))\n",
        "  ridge=Ridge(alpha)\n",
        "  ridge.fit(X_train,y_train)\n",
        "  y_pred=ridge.predict(X_test)\n",
        "  res = pd.DataFrame({'Actual': y_test, 'Predicted': y_pred})  \n",
        "  print(res)\n",
        "  print(error(y_pred))"
      ],
      "execution_count": 16,
      "outputs": [
        {
          "output_type": "stream",
          "text": [
            "alpha is 1\n",
            "    Actual  Predicted\n",
            "10      85  76.757896\n",
            "16      30  27.357156\n",
            "19      69  73.907854\n",
            "0       21  27.357156\n",
            "23      76  69.157782\n",
            "Mean Absolute Error: 5.798434963179142\n",
            "None\n",
            "alpha is 3\n",
            "    Actual  Predicted\n",
            "10      85  76.340334\n",
            "16      30  27.719244\n",
            "19      69  73.535271\n",
            "0       21  27.719244\n",
            "23      76  68.860166\n",
            "Mean Absolute Error: 5.8669541647103385\n",
            "None\n",
            "alpha is 5\n",
            "    Actual  Predicted\n",
            "10      85  75.935747\n",
            "16      30  28.070079\n",
            "19      69  73.174266\n",
            "0       21  28.070079\n",
            "23      76  68.571798\n",
            "Mean Absolute Error: 5.933344209189324\n",
            "None\n",
            "alpha is 7\n",
            "    Actual  Predicted\n",
            "10      85  75.543540\n",
            "16      30  28.410180\n",
            "19      69  72.824307\n",
            "0       21  28.410180\n",
            "23      76  68.292254\n",
            "Mean Absolute Error: 5.997702820031284\n",
            "None\n",
            "alpha is 9\n",
            "    Actual  Predicted\n",
            "10      85  75.163153\n",
            "16      30  28.740031\n",
            "19      69  72.484896\n",
            "0       21  28.740031\n",
            "23      76  68.021134\n",
            "Mean Absolute Error: 6.0601218303943085\n",
            "None\n"
          ],
          "name": "stdout"
        }
      ]
    },
    {
      "cell_type": "code",
      "metadata": {
        "id": "ojeG3t83dnrt",
        "outputId": "2f468cda-df4e-4f21-ec0e-64eaeddfc216",
        "colab": {
          "base_uri": "https://localhost:8080/",
          "height": 187
        }
      },
      "source": [
        "from sklearn.model_selection import GridSearchCV\n",
        "param_grid={'alpha':[0.01,.1,1,10,100,1000]}\n",
        "grid=GridSearchCV(estimator=ridge,param_grid=param_grid,verbose=1)\n",
        "out=grid.fit(X_train,y_train)\n",
        "\n",
        "y_pred=out.predict(X_test)\n",
        "res = pd.DataFrame({'Actual': y_test, 'Predicted': y_pred})\n",
        "print(res)\n",
        "out.best_params_\n"
      ],
      "execution_count": 17,
      "outputs": [
        {
          "output_type": "stream",
          "text": [
            "Fitting 5 folds for each of 6 candidates, totalling 30 fits\n",
            "    Actual  Predicted\n",
            "10      85  76.969584\n",
            "16      30  27.173592\n",
            "19      69  74.096739\n",
            "0       21  27.173592\n",
            "23      76  69.308662\n"
          ],
          "name": "stdout"
        },
        {
          "output_type": "stream",
          "text": [
            "[Parallel(n_jobs=1)]: Using backend SequentialBackend with 1 concurrent workers.\n",
            "[Parallel(n_jobs=1)]: Done  30 out of  30 | elapsed:    0.1s finished\n"
          ],
          "name": "stderr"
        },
        {
          "output_type": "execute_result",
          "data": {
            "text/plain": [
              "{'alpha': 0.01}"
            ]
          },
          "metadata": {
            "tags": []
          },
          "execution_count": 17
        }
      ]
    },
    {
      "cell_type": "code",
      "metadata": {
        "id": "5SKVq49thGBZ"
      },
      "source": [
        ""
      ],
      "execution_count": null,
      "outputs": []
    }
  ]
}